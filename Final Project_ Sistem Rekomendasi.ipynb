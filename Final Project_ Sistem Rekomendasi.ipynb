{
 "cells": [
  {
   "cell_type": "markdown",
   "metadata": {},
   "source": [
    "<h1>Kaggle Competition</h1>"
   ]
  },
  {
   "cell_type": "markdown",
   "metadata": {},
   "source": [
    "<b>Important Note</b>: Try to make sure in each cell, if you are modifying/altering the variables, a <u>copy</u> of the previous cell's variables should be used instead. This is so that when something needs to be done again midway, you don't have to run the whole notebook from the beginning."
   ]
  },
  {
   "cell_type": "markdown",
   "metadata": {},
   "source": [
    "<h3>All Imports</h3>"
   ]
  },
  {
   "cell_type": "code",
   "execution_count": 3,
   "metadata": {},
   "outputs": [],
   "source": [
    "import pandas as pd\n",
    "import numpy as np\n",
    "import re"
   ]
  },
  {
   "cell_type": "markdown",
   "metadata": {},
   "source": [
    "<h2>Input</h2>"
   ]
  },
  {
   "cell_type": "code",
   "execution_count": 4,
   "metadata": {},
   "outputs": [
    {
     "name": "stdout",
     "output_type": "stream",
     "text": [
      "(3883, 3)\n"
     ]
    },
    {
     "data": {
      "text/html": [
       "<div>\n",
       "<style scoped>\n",
       "    .dataframe tbody tr th:only-of-type {\n",
       "        vertical-align: middle;\n",
       "    }\n",
       "\n",
       "    .dataframe tbody tr th {\n",
       "        vertical-align: top;\n",
       "    }\n",
       "\n",
       "    .dataframe thead th {\n",
       "        text-align: right;\n",
       "    }\n",
       "</style>\n",
       "<table border=\"1\" class=\"dataframe\">\n",
       "  <thead>\n",
       "    <tr style=\"text-align: right;\">\n",
       "      <th></th>\n",
       "      <th>MovieID</th>\n",
       "      <th>Title</th>\n",
       "      <th>Genre</th>\n",
       "    </tr>\n",
       "  </thead>\n",
       "  <tbody>\n",
       "    <tr>\n",
       "      <th>0</th>\n",
       "      <td>1</td>\n",
       "      <td>Toy Story (1995)</td>\n",
       "      <td>Animation|Children's|Comedy</td>\n",
       "    </tr>\n",
       "    <tr>\n",
       "      <th>1</th>\n",
       "      <td>2</td>\n",
       "      <td>Jumanji (1995)</td>\n",
       "      <td>Adventure|Children's|Fantasy</td>\n",
       "    </tr>\n",
       "    <tr>\n",
       "      <th>2</th>\n",
       "      <td>3</td>\n",
       "      <td>Grumpier Old Men (1995)</td>\n",
       "      <td>Comedy|Romance</td>\n",
       "    </tr>\n",
       "    <tr>\n",
       "      <th>3</th>\n",
       "      <td>4</td>\n",
       "      <td>Waiting to Exhale (1995)</td>\n",
       "      <td>Comedy|Drama</td>\n",
       "    </tr>\n",
       "    <tr>\n",
       "      <th>4</th>\n",
       "      <td>5</td>\n",
       "      <td>Father of the Bride Part II (1995)</td>\n",
       "      <td>Comedy</td>\n",
       "    </tr>\n",
       "  </tbody>\n",
       "</table>\n",
       "</div>"
      ],
      "text/plain": [
       "   MovieID                               Title                         Genre\n",
       "0        1                    Toy Story (1995)   Animation|Children's|Comedy\n",
       "1        2                      Jumanji (1995)  Adventure|Children's|Fantasy\n",
       "2        3             Grumpier Old Men (1995)                Comedy|Romance\n",
       "3        4            Waiting to Exhale (1995)                  Comedy|Drama\n",
       "4        5  Father of the Bride Part II (1995)                        Comedy"
      ]
     },
     "execution_count": 4,
     "metadata": {},
     "output_type": "execute_result"
    }
   ],
   "source": [
    "#movies.txtz\n",
    "movies = pd.read_csv(\"./movies.txt\", sep=\"::\", names=[\"MovieID\", \"Title\", \"Genre\"], engine = \"python\")\n",
    "print(movies.shape)\n",
    "movies.head()"
   ]
  },
  {
   "cell_type": "code",
   "execution_count": null,
   "metadata": {},
   "outputs": [],
   "source": [
    "#Code reserve, for preprocessing.\n",
    "dict_age = {\"1\": \"Under 18\",\n",
    "            \"18\": \"18-24\",\n",
    "            \"25\": \"25-34\",\n",
    "            \"35\": \"35-44\",\n",
    "            \"45\": \"45-49\",\n",
    "            \"50\": \"50-55\",\n",
    "            \"56\": \"56+\"\n",
    "           }\n",
    "dict_gender = {\"M\": \"Male\",\n",
    "               \"F\": \"Female\"\n",
    "              }\n",
    "dict_occupation = {\n",
    "    \"0\": \"other or not specified\",\n",
    "    \"1\": \"academic/educator\",\n",
    "    \"2\": \"artist\",\n",
    "    \"3\": \"clerical/admin\",\n",
    "    \"4\": \"college/grad student\",\n",
    "    \"5\": \"customer service\",\n",
    "    \"6\": \"doctor/health care\",\n",
    "    \"7\": \"executive/managerial\",\n",
    "    \"8\": \"farmer\",\n",
    "    \"9\": \"homemaker\",\n",
    "    \"10\": \"K-12 student\",\n",
    "    \"11\": \"lawyer\",\n",
    "    \"12\": \"programmer\",\n",
    "    \"13\": \"retired\",\n",
    "    \"14\": \"sales/marketing\",\n",
    "    \"15\": \"scientist\",\n",
    "    \"16\": \"self-employed\",\n",
    "    \"17\": \"technician/engineer\",\n",
    "    \"18\": \"tradesman/craftsman\",\n",
    "    \"19\": \"unemployed\",\n",
    "    \"20\": \"writer\"\n",
    "}"
   ]
  },
  {
   "cell_type": "code",
   "execution_count": null,
   "metadata": {},
   "outputs": [],
   "source": [
    "#users.txt\n",
    "users = pd.read_csv(\"./users.txt\", sep=\"::\", names=[\"UserID\", \"Gender\", \"Age\", \"Occupation\", \"Zip-code\"], engine = \"python\")\n",
    "print(users.shape)\n",
    "users.head()"
   ]
  },
  {
   "cell_type": "code",
   "execution_count": null,
   "metadata": {},
   "outputs": [],
   "source": [
    "#training data\n",
    "train = pd.read_csv(\"./training.txt\", names=[\"UserID\", \"MovieID\", \"Rating\", \"Timestamp\"]) #sep = ','\n",
    "print(train.shape)\n",
    "train.head()"
   ]
  },
  {
   "cell_type": "code",
   "execution_count": null,
   "metadata": {},
   "outputs": [],
   "source": [
    "#testing data\n",
    "test = pd.read_csv(\"./testing.txt\", names=[\"UserID\", \"MovieID\", \"Timestamp\"]) #sep = ','\n",
    "print(test.shape)\n",
    "test.head()"
   ]
  },
  {
   "cell_type": "markdown",
   "metadata": {},
   "source": [
    "<h2>Data Exploration and Manipulation</h2>"
   ]
  },
  {
   "cell_type": "markdown",
   "metadata": {},
   "source": [
    "In this section, we explore the kinds of data, make meaningful (or meaningless) analysis, and do a bit of changing with the data. Preprocessing is for later, where we modify the structure of data and/or alter the rows in data to make it suitable for feeding to our prediction algorithms. Will use dummytrain variables as to not change the original dataframe, unless necessary."
   ]
  },
  {
   "cell_type": "markdown",
   "metadata": {},
   "source": [
    "<h3>Change Timestamp to Meaningful Format</h3>"
   ]
  },
  {
   "cell_type": "code",
   "execution_count": null,
   "metadata": {},
   "outputs": [],
   "source": [
    "dummytrain1 = train.copy()\n",
    "dummytrain1['Timestamp'] = pd.to_datetime(train['Timestamp'], unit='s')\n",
    "dummytrain1.head()"
   ]
  },
  {
   "cell_type": "code",
   "execution_count": null,
   "metadata": {},
   "outputs": [],
   "source": [
    "dummytrain2 = dummytrain1.copy()\n",
    "dummytrain2['year'] = pd.DatetimeIndex(dummytrain2['Timestamp']).year\n",
    "dummytrain2['month'] = pd.DatetimeIndex(dummytrain2['Timestamp']).month\n",
    "dummytrain2['day'] = pd.DatetimeIndex(dummytrain2['Timestamp']).day\n",
    "dummytrain2['hour'] = pd.DatetimeIndex(dummytrain2['Timestamp']).hour\n",
    "dummytrain2 = dummytrain2.drop(columns = ['Timestamp'])\n",
    "dummytrain2.head()"
   ]
  },
  {
   "cell_type": "markdown",
   "metadata": {},
   "source": [
    "<h3>Seperating Genres, then one-hot encoding</h3>"
   ]
  },
  {
   "cell_type": "code",
   "execution_count": 8,
   "metadata": {},
   "outputs": [
    {
     "name": "stdout",
     "output_type": "stream",
     "text": [
      "\n"
     ]
    }
   ],
   "source": [
    "movievariable = movies.copy()\n",
    "#After turning the column 'Genre' into a list of genres, uncomment code below\n",
    "'''\n",
    "movies_genre = pd.concat([movievariable,pd.get_dummies(movievariable['Genre'].apply(pd.Series).stack()).sum(level=0)],axis=1)\n",
    "movies_genre.drop('Genre',axis=1,inplace=True)\n",
    "movies_genre.head()\n",
    "'''\n",
    "print()"
   ]
  },
  {
   "cell_type": "markdown",
   "metadata": {},
   "source": [
    "<h3>List of movies unrated/unwatched</h3>"
   ]
  },
  {
   "cell_type": "code",
   "execution_count": 13,
   "metadata": {},
   "outputs": [
    {
     "name": "stdout",
     "output_type": "stream",
     "text": [
      "[91, 221, 323, 622, 646, 677, 686, 689, 740, 817, 883, 995, 1048, 1072, 1074, 1182, 1195, 1229, 1239, 1338, 1402, 1403, 1418, 1435, 1451, 1452, 1469, 1478, 1481, 1491, 1492, 1505, 1506, 1512, 1521, 1530, 1536, 1540, 1560, 1576, 1607, 1618, 1634, 1637, 1638, 1691, 1700, 1712, 1736, 1737, 1745, 1751, 1761, 1763, 1766, 1775, 1778, 1786, 1790, 1800, 1802, 1803, 1808, 1813, 1818, 1823, 1828, 1838, 3815]\n"
     ]
    }
   ],
   "source": [
    "result_set = set(map(int, movies['MovieID'].unique().tolist()))\n",
    "movies_set = set(range(1, 3883))\n",
    "print(sorted(movies_set - result_set))"
   ]
  },
  {
   "cell_type": "markdown",
   "metadata": {},
   "source": [
    "<h3>[Insert additional data exploration here that seems needed for preprocessing]</h3>"
   ]
  },
  {
   "cell_type": "code",
   "execution_count": null,
   "metadata": {},
   "outputs": [],
   "source": [
    "#insert any more exploration codes and notes here"
   ]
  },
  {
   "cell_type": "markdown",
   "metadata": {},
   "source": [
    "<h2>Preprocessing</h2>"
   ]
  },
  {
   "cell_type": "markdown",
   "metadata": {},
   "source": [
    "In this section, we now alter the data and/or its structure."
   ]
  },
  {
   "cell_type": "markdown",
   "metadata": {},
   "source": [
    "<h3>Handle Incomplete Data</h3>"
   ]
  },
  {
   "cell_type": "code",
   "execution_count": null,
   "metadata": {},
   "outputs": [],
   "source": [
    "#insert code to handle missing data here, be it drop or alter"
   ]
  },
  {
   "cell_type": "markdown",
   "metadata": {},
   "source": [
    "<h3>Handle Inconsistent Data</h3>"
   ]
  },
  {
   "cell_type": "code",
   "execution_count": null,
   "metadata": {},
   "outputs": [],
   "source": [
    "#insert code to handle data that is most likely incorrect, from result of Data Exploration"
   ]
  },
  {
   "cell_type": "markdown",
   "metadata": {},
   "source": [
    "<h3>Handle Noise / Outliers</h3>"
   ]
  },
  {
   "cell_type": "code",
   "execution_count": null,
   "metadata": {},
   "outputs": [],
   "source": [
    "#insert extreme or disruptive data handling here, can use binning, or some other method."
   ]
  },
  {
   "cell_type": "markdown",
   "metadata": {},
   "source": [
    "<h3>[Insert appropriate preprocessing step here]</h3>"
   ]
  },
  {
   "cell_type": "code",
   "execution_count": null,
   "metadata": {},
   "outputs": [],
   "source": [
    "#insert one-hot encoding here, Feature Selection and Extraction, PCA, binning, etc"
   ]
  },
  {
   "cell_type": "markdown",
   "metadata": {},
   "source": [
    "<h2>Model Training</h2>"
   ]
  },
  {
   "cell_type": "markdown",
   "metadata": {},
   "source": [
    "It's time to select and train our algorithm(s) to make models that can predict the test dataset."
   ]
  },
  {
   "cell_type": "code",
   "execution_count": null,
   "metadata": {},
   "outputs": [],
   "source": [
    "#insert all codes here, can use scikit-learn, can make own model"
   ]
  },
  {
   "cell_type": "markdown",
   "metadata": {},
   "source": [
    "<h2>Evaluation and Analysis</h2>"
   ]
  },
  {
   "cell_type": "markdown",
   "metadata": {},
   "source": [
    "From here onwards, we can only check how good our data is through cross-validation of our data with the training set. The test set is our final step and will be submitted to kaggle for scoring."
   ]
  },
  {
   "cell_type": "markdown",
   "metadata": {},
   "source": [
    "<h3>[Insert model choosing and training here]</h3>"
   ]
  },
  {
   "cell_type": "code",
   "execution_count": null,
   "metadata": {},
   "outputs": [],
   "source": [
    "#insert prediction and results here."
   ]
  },
  {
   "cell_type": "markdown",
   "metadata": {},
   "source": [
    "Make notes in Markdown as to why a certain model is chosen, if necessary."
   ]
  },
  {
   "cell_type": "markdown",
   "metadata": {},
   "source": [
    "<h3>Save Model</h3>"
   ]
  },
  {
   "cell_type": "code",
   "execution_count": null,
   "metadata": {},
   "outputs": [],
   "source": [
    "#saving model is important, so we don't have to train a new model when sharing .ipynb file to others.\n",
    "#insert saving model method here."
   ]
  },
  {
   "cell_type": "markdown",
   "metadata": {},
   "source": [
    "<h3>Final Run</h3>"
   ]
  },
  {
   "cell_type": "code",
   "execution_count": null,
   "metadata": {},
   "outputs": [],
   "source": [
    "#predict test set, save results in .csv, with header of : ID,Predicted\n",
    "#put code here"
   ]
  },
  {
   "cell_type": "markdown",
   "metadata": {},
   "source": [
    "Extra notes:"
   ]
  },
  {
   "cell_type": "markdown",
   "metadata": {},
   "source": [
    "<h1>EOF</h1>"
   ]
  }
 ],
 "metadata": {
  "kernelspec": {
   "display_name": "Python 3",
   "language": "python",
   "name": "python3"
  },
  "language_info": {
   "codemirror_mode": {
    "name": "ipython",
    "version": 3
   },
   "file_extension": ".py",
   "mimetype": "text/x-python",
   "name": "python",
   "nbconvert_exporter": "python",
   "pygments_lexer": "ipython3",
   "version": "3.7.3"
  }
 },
 "nbformat": 4,
 "nbformat_minor": 2
}
